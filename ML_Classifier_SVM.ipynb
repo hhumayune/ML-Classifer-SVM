{
  "nbformat": 4,
  "nbformat_minor": 0,
  "metadata": {
    "colab": {
      "provenance": []
    },
    "kernelspec": {
      "name": "python3",
      "display_name": "Python 3"
    },
    "language_info": {
      "name": "python"
    }
  },
  "cells": [
    {
      "cell_type": "code",
      "execution_count": 10,
      "metadata": {
        "colab": {
          "base_uri": "https://localhost:8080/",
          "height": 447
        },
        "id": "WdJF8x0HwvmY",
        "outputId": "8d0032f7-aad9-4a18-f218-d757b4a1f3c0"
      },
      "outputs": [
        {
          "output_type": "execute_result",
          "data": {
            "text/plain": [
              "<matplotlib.image.AxesImage at 0x7fc638c89f30>"
            ]
          },
          "metadata": {},
          "execution_count": 10
        },
        {
          "output_type": "display_data",
          "data": {
            "text/plain": [
              "<Figure size 640x480 with 1 Axes>"
            ],
            "image/png": "[encoded data removed]"
          },
          "metadata": {}
        }
      ],
      "source": [
        "import cv2\n",
        "import pandas as pd\n",
        "import numpy as np\n",
        "import matplotlib.pyplot as plt\n",
        "from sklearn.model_selection import train_test_split\n",
        "from sklearn.preprocessing import LabelEncoder\n",
        "from sklearn.metrics import accuracy_score\n",
        "from skimage.transform import resize\n",
        "from sklearn.svm import SVC\n",
        "import pickle\n",
        "from skimage.feature import hog\n",
        "\n",
        "\n",
        "# Loading the data from CSV files\n",
        "# insert custom datasets here\n",
        "\n",
        "Xtr = np.loadtxt(\"/content/drive/MyDrive/TrainData.csv\")\n",
        "Ytr = np.loadtxt(\"/content/drive/MyDrive/TrainLabels.csv\")\n",
        "Xts = np.loadtxt(\"/content/drive/MyDrive/TestData.csv\")\n",
        "# Convert the labels in data to numeric values\n",
        "Ytr = Ytr.astype(int)\n",
        "\n",
        "# Reshape the data to image format (images provided are originally 28x28 grayscale)\n",
        "train_data_images = Xtr.reshape(-1, 28, 28)\n",
        "\n",
        "# For visualization\n",
        "plt.imshow(Xtr[10].reshape([28,28]))\n",
        "\n"
      ]
    },
    {
      "cell_type": "code",
      "source": [
        "#techniques used HOG and pixel intensity\n",
        "def extract_features(images, method='hog'):\n",
        "    features = []\n",
        "    for image in images:\n",
        "        if method == 'hog':\n",
        "            # Resize the image to a smaller size for faster processing\n",
        "            resized_image = resize(image, (16, 16))\n",
        "            \n",
        "            # Extract Histogram of Oriented Gradients (HOG) features\n",
        "            hog_features = hog(resized_image, orientations=9, pixels_per_cell=(8, 8),\n",
        "                               cells_per_block=(2, 2), visualize=False)\n",
        "            \n",
        "            features.append(hog_features)\n",
        "        \n",
        "        elif method == 'edges':\n",
        "            # Your edge extraction logic here\n",
        "            pass\n",
        "        \n",
        "        elif method == 'color_channels':\n",
        "            # Your color channel extraction logic here\n",
        "            pass\n",
        "        \n",
        "        elif method == 'midpoints':\n",
        "            # Your midpoint extraction logic here\n",
        "            pass\n",
        "        \n",
        "        else:\n",
        "            feature = extract_pixel_intensity(image)\n",
        "            features.append(feature)\n",
        "\n",
        "    features = np.array(features)\n",
        "\n",
        "    return features\n",
        "\n",
        "def extract_pixel_intensity(image):\n",
        "    return image.flatten()\n",
        "\n",
        "# extract features from training and test sets\n",
        "X_train_features = extract_features(train_data_images)\n",
        "X_test_features = extract_features(Xts)\n",
        "                                   \n"
      ],
      "metadata": {
        "id": "4oMRXs2i-ZrF"
      },
      "execution_count": 11,
      "outputs": []
    },
    {
      "cell_type": "code",
      "source": [
        "## Define the hyperparameters for the model\n",
        "C = 1  # Regularization parameter\n",
        "kernel = 'rbf'  # Kernel type\n",
        "\n",
        "# Train the model using the entire dataset\n",
        "model = SVC(C=C, kernel=kernel)\n",
        "model.fit(X_train_features, Ytr)\n",
        "\n",
        "# Saving the final model\n",
        "filename = 'final_model.pkl'\n",
        "with open(filename, 'wb') as file:\n",
        "    pickle.dump(model, file)\n",
        "\n",
        "print(\"Final model saved as\", filename)\n",
        "\n",
        "# Generate predictions for the test examples\n",
        "test_predictions = model.predict(X_test_features)\n",
        "\n",
        "# Save the predictions to a CSV file\n",
        "np.savetxt(\"myPredictions.csv\", test_predictions, delimiter=\",\", fmt=\"%d\")\n",
        "\n",
        "print(\"Predictions saved to myPredictions.csv\")\n"
      ],
      "metadata": {
        "colab": {
          "base_uri": "https://localhost:8080/"
        },
        "id": "ntJu9V92-Z0a",
        "outputId": "07854550-419e-44da-fff6-b7270a9c30a6"
      },
      "execution_count": 12,
      "outputs": [
        {
          "output_type": "stream",
          "name": "stdout",
          "text": [
            "Final model saved as final_model.pkl\n",
            "Predictions saved to myPredictions.csv\n"
          ]
        }
      ]
    },
    {
      "cell_type": "code",
      "source": [],
      "metadata": {
        "id": "eB2wciYa-Z48"
      },
      "execution_count": 12,
      "outputs": []
    }
  ]
}